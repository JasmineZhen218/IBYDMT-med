{
 "cells": [
  {
   "cell_type": "code",
   "execution_count": null,
   "metadata": {},
   "outputs": [],
   "source": [
    "import sys\n",
    "import seaborn as sns\n",
    "\n",
    "root_dir = \"../\"\n",
    "sys.path.append(root_dir)\n",
    "import configs\n",
    "import datasets\n",
    "from ibydmt.utils.config import get_config\n",
    "from ibydmt.utils.viz import viz_global_cond, viz_pcbm\n",
    "from ibydmt.tester import sweep\n",
    "\n",
    "config_name, concept_type = \"awa2\", \"class\"\n",
    "results_kw = {\"testing.kernel_scale\": 0.9, \"testing.tau_max\": 800, \"ckde.scale\": 1000}\n",
    "\n",
    "config = get_config(config_name)\n",
    "\n",
    "backbone_configs = sweep(config, sweep_keys=[\"data.backbone\"])\n",
    "config = backbone_configs[0]\n",
    "\n",
    "sns.set_style(\"white\")\n",
    "sns.set_context(\"paper\")"
   ]
  },
  {
   "cell_type": "code",
   "execution_count": null,
   "metadata": {},
   "outputs": [],
   "source": [
    "viz_global_cond(\n",
    "    config, concept_type=concept_type, results_kw=results_kw, include_fdr_control=True\n",
    ")"
   ]
  },
  {
   "cell_type": "code",
   "execution_count": null,
   "metadata": {},
   "outputs": [],
   "source": [
    "viz_pcbm(config, concept_type=concept_type)"
   ]
  },
  {
   "cell_type": "code",
   "execution_count": null,
   "metadata": {},
   "outputs": [],
   "source": [
    "# viz_global_tau(config, root_dir, concept_type=concept_type, kernel_scale=kernel_scale)"
   ]
  },
  {
   "cell_type": "code",
   "execution_count": null,
   "metadata": {},
   "outputs": [],
   "source": [
    "# viz_global_cond_tau(\n",
    "#     config, root_dir, concept_type, kernel_scale=kernel_scale, ckde_scale=ckde_scale\n",
    "# )"
   ]
  },
  {
   "cell_type": "code",
   "execution_count": null,
   "metadata": {},
   "outputs": [],
   "source": []
  }
 ],
 "metadata": {
  "kernelspec": {
   "display_name": "cuda118",
   "language": "python",
   "name": "python3"
  },
  "language_info": {
   "codemirror_mode": {
    "name": "ipython",
    "version": 3
   },
   "file_extension": ".py",
   "mimetype": "text/x-python",
   "name": "python",
   "nbconvert_exporter": "python",
   "pygments_lexer": "ipython3",
   "version": "3.10.14"
  }
 },
 "nbformat": 4,
 "nbformat_minor": 2
}

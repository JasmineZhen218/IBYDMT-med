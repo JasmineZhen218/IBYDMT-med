{
 "cells": [
  {
   "cell_type": "code",
   "execution_count": null,
   "metadata": {},
   "outputs": [],
   "source": [
    "import os\n",
    "import sys\n",
    "import numpy as np\n",
    "import seaborn as sns\n",
    "from sklearn import metrics\n",
    "\n",
    "root_dir = \"../\"\n",
    "sys.path.append(root_dir)\n",
    "import configs\n",
    "import datasets\n",
    "from ibydmt.utils.concepts import get_concepts\n",
    "from ibydmt.utils.config import get_config\n",
    "from ibydmt.utils.data import get_dataset\n",
    "from ibydmt.utils.result import TestingResults\n",
    "from ibydmt.tester import get_local_test_idx\n",
    "\n",
    "config_name, concept_type = \"cub\", \"image\"\n",
    "results_kw = {\"testing.kernel_scale\": 0.5, \"testing.tau_max\": 200}\n",
    "\n",
    "config = get_config(config_name)\n",
    "backbone_configs = config.sweep([\"data.backbone\"])\n",
    "\n",
    "dataset = get_dataset(config)\n",
    "classes = dataset.classes\n",
    "\n",
    "test_idx = get_local_test_idx(config)\n",
    "n_test_images = sum([len(v) for v in test_idx.values()])\n",
    "\n",
    "sns.set_style()\n",
    "sns.set_context(\"paper\")"
   ]
  },
  {
   "cell_type": "code",
   "execution_count": null,
   "metadata": {},
   "outputs": [],
   "source": [
    "cardinalities = config.testing.cardinality\n",
    "xskit_f1 = np.zeros((len(backbone_configs), len(cardinalities), n_test_images))\n",
    "for i, backbone_config in enumerate(backbone_configs):\n",
    "    backbone = backbone_config.data.backbone\n",
    "\n",
    "    backbone_results = TestingResults.load(\n",
    "        backbone_config, \"local_cond\", concept_type, results_kw=results_kw\n",
    "    )\n",
    "\n",
    "    j = 0\n",
    "    for class_name, class_test_idx in test_idx.items():\n",
    "        for image_idx in class_test_idx:\n",
    "            _, concepts = get_concepts(config, concept_image_idx=image_idx)\n",
    "            m = len(concepts)\n",
    "            gt_importance = [1] * (m // 2) + [0] * (m // 2)\n",
    "\n",
    "            for k, cardinality in enumerate(cardinalities):\n",
    "                sorted_results = backbone_results.sort(\n",
    "                    class_name, image_idx=image_idx, cardinality=cardinality\n",
    "                )\n",
    "                sorted_concepts = sorted_results[\"sorted_concepts\"]\n",
    "                sorted_importance = sorted_results[\"sorted_importance\"]\n",
    "\n",
    "                sorted_gt_importance = [\n",
    "                    gt_importance[concepts.index(c)] for c in sorted_concepts\n",
    "                ]\n",
    "                xskit_f1[i, k, j] = metrics.f1_score(\n",
    "                    sorted_gt_importance, sorted_importance\n",
    "                )\n",
    "\n",
    "            j += 1\n",
    "\n",
    "    print(\n",
    "        f\"Backbone: {backbone}:\\n\\t cardinality: {cardinalities[0]}, f1:\"\n",
    "        f\" {np.mean(xskit_f1[i, 0]):.2f} pm {np.std(xskit_f1[i, 0]):.2f}\\n\\t\"\n",
    "        f\" cardinality: {cardinalities[1]}, f1: {np.mean(xskit_f1[i, 1]):.2f} pm\"\n",
    "        f\" {np.std(xskit_f1[i, 1]):.2f}\\n\\t cardinality: {cardinalities[2]}, f1:\"\n",
    "        f\" {np.mean(xskit_f1[i, 2]):.2f} pm {np.std(xskit_f1[i, 2]):.2f}\\n\"\n",
    "    )"
   ]
  },
  {
   "cell_type": "code",
   "execution_count": null,
   "metadata": {},
   "outputs": [],
   "source": [
    "print(\n",
    "    f\"Average:\\n\\t cardinality: {cardinalities[0]}, f1:\"\n",
    "    f\" {np.mean(xskit_f1[:, 0]):.2f} pm {np.std(xskit_f1[:, 0]):.2f}\\n\\t cardinality:\"\n",
    "    f\" {cardinalities[1]}, f1: {np.mean(xskit_f1[:, 1]):.2f} pm\"\n",
    "    f\" {np.std(xskit_f1[:, 1]):.2f}\\n\\t cardinality: {cardinalities[2]}, f1:\"\n",
    "    f\" {np.mean(xskit_f1[:, 2]):.2f} pm {np.std(xskit_f1[:, 2]):.2f}\"\n",
    ")"
   ]
  },
  {
   "cell_type": "code",
   "execution_count": null,
   "metadata": {},
   "outputs": [],
   "source": []
  }
 ],
 "metadata": {
  "kernelspec": {
   "display_name": "cuda118",
   "language": "python",
   "name": "python3"
  },
  "language_info": {
   "codemirror_mode": {
    "name": "ipython",
    "version": 3
   },
   "file_extension": ".py",
   "mimetype": "text/x-python",
   "name": "python",
   "nbconvert_exporter": "python",
   "pygments_lexer": "ipython3",
   "version": "3.10.14"
  }
 },
 "nbformat": 4,
 "nbformat_minor": 2
}

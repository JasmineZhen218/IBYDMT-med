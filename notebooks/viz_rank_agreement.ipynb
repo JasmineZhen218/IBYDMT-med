{
 "cells": [
  {
   "cell_type": "code",
   "execution_count": null,
   "metadata": {},
   "outputs": [],
   "source": [
    "import os\n",
    "import sys\n",
    "import matplotlib.pyplot as plt\n",
    "import seaborn as sns\n",
    "\n",
    "root_dir = \"../\"\n",
    "sys.path.append(root_dir)\n",
    "import configs\n",
    "import datasets\n",
    "from ibydmt.utils.config import get_config\n",
    "from ibydmt.utils.viz import viz_rank_agreement\n",
    "\n",
    "config_name, test_type, concept_type = \"awa2\", \"global\", \"class\"\n",
    "results_kw = {\"ckde.scale\": 2000, \"testing.kernel_scale\": 0.9, \"testing.tau_max\": 400}\n",
    "\n",
    "config = get_config(config_name)\n",
    "\n",
    "sns.set_style()\n",
    "sns.set_context(\"paper\")"
   ]
  },
  {
   "cell_type": "code",
   "execution_count": null,
   "metadata": {},
   "outputs": [],
   "source": [
    "figure_dir = os.path.join(\n",
    "    root_dir, \"figures\", config.name.lower(), test_type, \"rank_agreement\"\n",
    ")\n",
    "os.makedirs(figure_dir, exist_ok=True)\n",
    "\n",
    "_, ax = plt.subplots(figsize=(5, 5))\n",
    "viz_rank_agreement(config, test_type, concept_type, results_kw=results_kw, ax=ax)\n",
    "plt.savefig(\n",
    "    os.path.join(figure_dir, f\"{results_kw['testing.tau_max']}_{concept_type}.pdf\"),\n",
    "    bbox_inches=\"tight\",\n",
    ")\n",
    "plt.savefig(\n",
    "    os.path.join(figure_dir, f\"{results_kw['testing.tau_max']}_{concept_type}.jpg\"),\n",
    "    bbox_inches=\"tight\",\n",
    ")\n",
    "plt.show()\n",
    "plt.close()"
   ]
  },
  {
   "cell_type": "code",
   "execution_count": null,
   "metadata": {},
   "outputs": [],
   "source": [
    "if test_type == \"global_cond\":\n",
    "    _, ax = plt.subplots(figsize=(5, 5))\n",
    "    viz_rank_agreement(config, test_type, concept_type, pcbm=True, ax=ax)\n",
    "    plt.savefig(\n",
    "        os.path.join(figure_dir, f\"pcbm_{concept_type}.pdf\"),\n",
    "        bbox_inches=\"tight\",\n",
    "    )\n",
    "    plt.savefig(\n",
    "        os.path.join(figure_dir, f\"pcbm_{concept_type}.jpg\"),\n",
    "        bbox_inches=\"tight\",\n",
    "    )\n",
    "    plt.show()\n",
    "    plt.close()"
   ]
  },
  {
   "cell_type": "code",
   "execution_count": null,
   "metadata": {},
   "outputs": [],
   "source": []
  }
 ],
 "metadata": {
  "kernelspec": {
   "display_name": "cuda118",
   "language": "python",
   "name": "python3"
  },
  "language_info": {
   "codemirror_mode": {
    "name": "ipython",
    "version": 3
   },
   "file_extension": ".py",
   "mimetype": "text/x-python",
   "name": "python",
   "nbconvert_exporter": "python",
   "pygments_lexer": "ipython3",
   "version": "3.10.14"
  }
 },
 "nbformat": 4,
 "nbformat_minor": 2
}

{
 "cells": [
  {
   "cell_type": "code",
   "execution_count": null,
   "metadata": {},
   "outputs": [],
   "source": [
    "import os\n",
    "import sys\n",
    "import json\n",
    "import matplotlib.pyplot as plt\n",
    "import seaborn as sns\n",
    "\n",
    "root_dir = \"../\"\n",
    "sys.path.append(root_dir)\n",
    "import configs\n",
    "import datasets\n",
    "from ibydmt.utils.config import get_config\n",
    "from ibydmt.utils.data import get_dataset\n",
    "\n",
    "config_name = \"cub\"\n",
    "config = get_config(config_name)\n",
    "dataset = get_dataset(config, train=False)\n",
    "classes = dataset.classes\n",
    "\n",
    "sns.set_theme()\n",
    "sns.set_context(\"paper\")"
   ]
  },
  {
   "cell_type": "code",
   "execution_count": null,
   "metadata": {},
   "outputs": [],
   "source": [
    "local_test_idx_path = os.path.join(\n",
    "    root_dir, \"results\", config.name.lower(), \"local_cond\", \"local_test_idx.json\"\n",
    ")\n",
    "with open(local_test_idx_path, \"r\") as f:\n",
    "    local_test_idx = json.load(f)\n",
    "\n",
    "for class_name, class_test_idx in local_test_idx.items():\n",
    "    _, axes = plt.subplots(1, len(class_test_idx), figsize=(16 / 4, 9 / 4))\n",
    "    for i, image_idx in enumerate(class_test_idx):\n",
    "        image, _ = dataset[image_idx]\n",
    "        ax = axes[i]\n",
    "        ax.imshow(image)\n",
    "        ax.axis(\"off\")\n",
    "    plt.suptitle(class_name)\n",
    "    plt.show()\n",
    "    plt.close()"
   ]
  },
  {
   "cell_type": "code",
   "execution_count": null,
   "metadata": {},
   "outputs": [],
   "source": []
  }
 ],
 "metadata": {
  "kernelspec": {
   "display_name": "cuda118",
   "language": "python",
   "name": "python3"
  },
  "language_info": {
   "codemirror_mode": {
    "name": "ipython",
    "version": 3
   },
   "file_extension": ".py",
   "mimetype": "text/x-python",
   "name": "python",
   "nbconvert_exporter": "python",
   "pygments_lexer": "ipython3",
   "version": "3.10.14"
  }
 },
 "nbformat": 4,
 "nbformat_minor": 2
}

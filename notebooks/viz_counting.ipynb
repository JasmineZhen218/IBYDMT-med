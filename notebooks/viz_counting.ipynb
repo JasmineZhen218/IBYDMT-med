{
 "cells": [
  {
   "cell_type": "code",
   "execution_count": null,
   "metadata": {},
   "outputs": [],
   "source": [
    "import os\n",
    "import sys\n",
    "import numpy as np\n",
    "import pandas as pd\n",
    "import matplotlib.pyplot as plt\n",
    "import seaborn as sns\n",
    "\n",
    "root_dir = \"../\"\n",
    "sys.path.append(root_dir)\n",
    "from counting_lib import target_idx, DIGIT_NAMES, CLASS_NAME\n",
    "from datasets import CountingDataset\n",
    "from notebooks.viz_counting_utils import viz_dist, viz_results, viz_local_results\n",
    "\n",
    "dataset = CountingDataset(train=False)\n",
    "digits = pd.DataFrame(dataset.digits, columns=DIGIT_NAMES)\n",
    "\n",
    "results_dir = os.path.join(root_dir, \"results\", \"counting\")\n",
    "os.makedirs(results_dir, exist_ok=True)\n",
    "\n",
    "figure_dir = os.path.join(root_dir, \"figures\", \"counting\")\n",
    "os.makedirs(figure_dir, exist_ok=True)\n",
    "\n",
    "predictions = pd.read_csv(os.path.join(results_dir, \"predictions.csv\"), index_col=0)\n",
    "\n",
    "sns.set_style(\"white\")\n",
    "sns.set_context(\"paper\")"
   ]
  },
  {
   "cell_type": "code",
   "execution_count": null,
   "metadata": {},
   "outputs": [],
   "source": [
    "m = 6\n",
    "idx = np.random.choice(len(dataset), m, replace=False)\n",
    "\n",
    "_, axes = plt.subplots(1, 6, figsize=(16 / 1.5, 9 / 4))\n",
    "for i, _idx in enumerate(idx):\n",
    "    _image, _digits = dataset[_idx]\n",
    "\n",
    "    target_digit = np.round(_digits[target_idx]).astype(int)\n",
    "\n",
    "    ax = axes[i]\n",
    "    ax.imshow(_image.squeeze().permute(1, 2, 0))\n",
    "    ax.set_xticks([])\n",
    "    ax.set_yticks([])\n",
    "    ax.set_title(f\"{CLASS_NAME} = {target_digit}\")\n",
    "plt.savefig(os.path.join(figure_dir, \"samples.pdf\"), bbox_inches=\"tight\")\n",
    "plt.savefig(os.path.join(figure_dir, \"samples.png\"), bbox_inches=\"tight\")\n",
    "plt.show()"
   ]
  },
  {
   "cell_type": "code",
   "execution_count": null,
   "metadata": {},
   "outputs": [],
   "source": [
    "viz_dist(dataset, predictions, figure_dir)"
   ]
  },
  {
   "cell_type": "code",
   "execution_count": null,
   "metadata": {},
   "outputs": [],
   "source": [
    "global_results_dir = os.path.join(results_dir, \"global_model\")\n",
    "global_figure_dir = os.path.join(figure_dir, \"global_model\")\n",
    "os.makedirs(global_figure_dir, exist_ok=True)\n",
    "\n",
    "viz_results(global_results_dir, \"linear\", global_figure_dir)\n",
    "viz_results(global_results_dir, \"rbf\", global_figure_dir)"
   ]
  },
  {
   "cell_type": "code",
   "execution_count": null,
   "metadata": {},
   "outputs": [],
   "source": [
    "global_cond_results_dir = os.path.join(results_dir, \"global_cond_model\")\n",
    "global_cond_figure_dir = os.path.join(figure_dir, \"global_cond_model\")\n",
    "os.makedirs(global_figure_dir, exist_ok=True)\n",
    "\n",
    "viz_results(global_cond_results_dir, \"linear\", global_cond_figure_dir)\n",
    "viz_results(global_cond_results_dir, \"rbf\", global_cond_figure_dir)"
   ]
  },
  {
   "cell_type": "code",
   "execution_count": null,
   "metadata": {},
   "outputs": [],
   "source": [
    "local_cond_results_dir = os.path.join(results_dir, \"local_cond_model\")\n",
    "gradcam_dir = os.path.join(results_dir, \"gradcam\")\n",
    "\n",
    "local_cond_figure_dir = os.path.join(figure_dir, \"local_cond_model\")\n",
    "os.makedirs(local_cond_figure_dir, exist_ok=True)\n",
    "\n",
    "viz_local_results(local_cond_results_dir, gradcam_dir, local_cond_figure_dir)"
   ]
  },
  {
   "cell_type": "code",
   "execution_count": null,
   "metadata": {},
   "outputs": [],
   "source": []
  }
 ],
 "metadata": {
  "kernelspec": {
   "display_name": "cuda118",
   "language": "python",
   "name": "python3"
  },
  "language_info": {
   "codemirror_mode": {
    "name": "ipython",
    "version": 3
   },
   "file_extension": ".py",
   "mimetype": "text/x-python",
   "name": "python",
   "nbconvert_exporter": "python",
   "pygments_lexer": "ipython3",
   "version": "3.10.14"
  }
 },
 "nbformat": 4,
 "nbformat_minor": 2
}

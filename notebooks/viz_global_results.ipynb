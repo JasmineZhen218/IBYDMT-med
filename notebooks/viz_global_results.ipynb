{
 "cells": [
  {
   "cell_type": "code",
   "execution_count": null,
   "metadata": {},
   "outputs": [],
   "source": [
    "import sys\n",
    "import seaborn as sns\n",
    "\n",
    "root_dir = \"../\"\n",
    "sys.path.append(root_dir)\n",
    "import configs\n",
    "import datasets\n",
    "from ibydmt.utils.config import get_config\n",
    "from ibydmt.utils.viz import viz_global\n",
    "\n",
    "# from notebooks.viz_results_utils import (\n",
    "#     viz_global_cond,\n",
    "#     viz_global_tau,\n",
    "#     viz_global_cond_tau,\n",
    "# )\n",
    "\n",
    "config_name = \"imagenette\"\n",
    "results_kw = {\n",
    "    \"data.backbone\": \"align\",\n",
    "    \"testing.kernel_scale\": 0.9,\n",
    "    \"testing.tau_max\": 400,\n",
    "    \"ckde.scale\": 2000,\n",
    "}\n",
    "\n",
    "config = get_config(config_name)\n",
    "\n",
    "sns.set_style(\"white\")\n",
    "sns.set_context(\"paper\")"
   ]
  },
  {
   "cell_type": "code",
   "execution_count": null,
   "metadata": {},
   "outputs": [],
   "source": [
    "viz_global(config, results_kw=results_kw, include_fdr_control=True)"
   ]
  },
  {
   "cell_type": "code",
   "execution_count": null,
   "metadata": {},
   "outputs": [],
   "source": [
    "viz_global_cond(\n",
    "    config,\n",
    "    root_dir,\n",
    "    concept_type=concept_type,\n",
    "    kernel_scale=kernel_scale,\n",
    "    ckde_scale=ckde_scale,\n",
    "    tau_max=tau_max,\n",
    ")"
   ]
  },
  {
   "cell_type": "code",
   "execution_count": null,
   "metadata": {},
   "outputs": [],
   "source": [
    "viz_global_tau(config, root_dir, concept_type=concept_type, kernel_scale=kernel_scale)"
   ]
  },
  {
   "cell_type": "code",
   "execution_count": null,
   "metadata": {},
   "outputs": [],
   "source": [
    "viz_global_cond_tau(\n",
    "    config, root_dir, concept_type, kernel_scale=kernel_scale, ckde_scale=ckde_scale\n",
    ")"
   ]
  },
  {
   "cell_type": "code",
   "execution_count": null,
   "metadata": {},
   "outputs": [],
   "source": []
  }
 ],
 "metadata": {
  "kernelspec": {
   "display_name": "cuda118",
   "language": "python",
   "name": "python3"
  },
  "language_info": {
   "codemirror_mode": {
    "name": "ipython",
    "version": 3
   },
   "file_extension": ".py",
   "mimetype": "text/x-python",
   "name": "python",
   "nbconvert_exporter": "python",
   "pygments_lexer": "ipython3",
   "version": "3.10.14"
  }
 },
 "nbformat": 4,
 "nbformat_minor": 2
}

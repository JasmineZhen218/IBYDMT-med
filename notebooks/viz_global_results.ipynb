{
 "cells": [
  {
   "cell_type": "code",
   "execution_count": null,
   "metadata": {},
   "outputs": [],
   "source": [
    "import sys\n",
    "import seaborn as sns\n",
    "\n",
    "root_dir = \"../\"\n",
    "sys.path.append(root_dir)\n",
    "from configs.utils import get_config\n",
    "from test_utils import TestingResults\n",
    "from notebooks.viz_results_utils import (\n",
    "    viz_global,\n",
    "    viz_global_cond,\n",
    "    viz_global_tau,\n",
    "    viz_global_cond_tau,\n",
    ")\n",
    "\n",
    "config_name, concept_type = \"imagenette\", \"dataset\"\n",
    "kernel_scale, tau_max, ckde_scale = 0.9, 800, 2000\n",
    "\n",
    "config = get_config(config_name)\n",
    "\n",
    "sns.set_style(\"white\")\n",
    "sns.set_context(\"paper\")"
   ]
  },
  {
   "cell_type": "code",
   "execution_count": null,
   "metadata": {},
   "outputs": [],
   "source": [
    "viz_global(\n",
    "    config,\n",
    "    root_dir,\n",
    "    concept_type=concept_type,\n",
    "    kernel_scale=kernel_scale,\n",
    "    tau_max=tau_max,\n",
    ")"
   ]
  },
  {
   "cell_type": "code",
   "execution_count": null,
   "metadata": {},
   "outputs": [],
   "source": [
    "viz_global_cond(\n",
    "    config,\n",
    "    root_dir,\n",
    "    concept_type=concept_type,\n",
    "    kernel_scale=kernel_scale,\n",
    "    ckde_scale=ckde_scale,\n",
    "    tau_max=tau_max,\n",
    ")"
   ]
  },
  {
   "cell_type": "code",
   "execution_count": null,
   "metadata": {},
   "outputs": [],
   "source": [
    "viz_global_tau(config, root_dir, concept_type=concept_type, kernel_scale=kernel_scale)"
   ]
  },
  {
   "cell_type": "code",
   "execution_count": null,
   "metadata": {},
   "outputs": [],
   "source": [
    "viz_global_cond_tau(\n",
    "    config, root_dir, concept_type, kernel_scale=kernel_scale, ckde_scale=ckde_scale\n",
    ")"
   ]
  },
  {
   "cell_type": "code",
   "execution_count": null,
   "metadata": {},
   "outputs": [],
   "source": []
  }
 ],
 "metadata": {
  "kernelspec": {
   "display_name": "cuda118",
   "language": "python",
   "name": "python3"
  },
  "language_info": {
   "codemirror_mode": {
    "name": "ipython",
    "version": 3
   },
   "file_extension": ".py",
   "mimetype": "text/x-python",
   "name": "python",
   "nbconvert_exporter": "python",
   "pygments_lexer": "ipython3",
   "version": "3.10.14"
  }
 },
 "nbformat": 4,
 "nbformat_minor": 2
}

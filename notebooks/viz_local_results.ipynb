{
 "cells": [
  {
   "cell_type": "code",
   "execution_count": null,
   "metadata": {},
   "outputs": [],
   "source": [
    "import sys\n",
    "import seaborn as sns\n",
    "\n",
    "root_dir = \"../\"\n",
    "sys.path.append(root_dir)\n",
    "import configs\n",
    "import datasets\n",
    "from ibydmt.utils.config import get_config\n",
    "from ibydmt.utils.viz import viz_results\n",
    "\n",
    "config_name, concept_type = \"cub_vip\", \"image\"\n",
    "cardinality = 1\n",
    "results_kw = {\n",
    "    \"testing.kernel_scale\": 0.5,\n",
    "    \"testing.tau_max\": 200,\n",
    "}\n",
    "\n",
    "config = get_config(config_name)\n",
    "\n",
    "sns.set_style(\"white\")\n",
    "sns.set_context(\"paper\", font_scale=1.5)"
   ]
  },
  {
   "cell_type": "code",
   "execution_count": null,
   "metadata": {},
   "outputs": [],
   "source": [
    "viz_results(\n",
    "    config,\n",
    "    \"local_cond\",\n",
    "    concept_type,\n",
    "    cardinality=cardinality,\n",
    "    show=False,\n",
    "    results_kw=results_kw,\n",
    ")"
   ]
  },
  {
   "cell_type": "code",
   "execution_count": null,
   "metadata": {},
   "outputs": [],
   "source": []
  }
 ],
 "metadata": {
  "kernelspec": {
   "display_name": "cuda118",
   "language": "python",
   "name": "python3"
  },
  "language_info": {
   "codemirror_mode": {
    "name": "ipython",
    "version": 3
   },
   "file_extension": ".py",
   "mimetype": "text/x-python",
   "name": "python",
   "nbconvert_exporter": "python",
   "pygments_lexer": "ipython3",
   "version": "3.10.14"
  }
 },
 "nbformat": 4,
 "nbformat_minor": 2
}

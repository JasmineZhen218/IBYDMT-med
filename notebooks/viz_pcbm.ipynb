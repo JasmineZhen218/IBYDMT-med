{
 "cells": [
  {
   "cell_type": "code",
   "execution_count": null,
   "metadata": {},
   "outputs": [],
   "source": [
    "import os\n",
    "import sys\n",
    "import numpy as np\n",
    "\n",
    "root_dir = \"../\"\n",
    "sys.path.append(root_dir)\n",
    "from configs.utils import get_config\n",
    "from models.pcbm import PCBM\n",
    "\n",
    "config_name = \"imagenette\"\n",
    "config = get_config(config_name)\n",
    "\n",
    "model = PCBM.load_or_train(config, root_dir)\n",
    "model.eval()"
   ]
  },
  {
   "cell_type": "code",
   "execution_count": null,
   "metadata": {},
   "outputs": [],
   "source": [
    "for i, class_name in enumerate(classes):\n",
    "    sorted_idx = np.argsort(np.abs(weights[i]))[::-1]\n",
    "\n",
    "    sorted_concepts = [concepts[idx] for idx in sorted_idx]\n",
    "    sorted_weights = [weights[i][idx] for idx in sorted_idx]\n",
    "    print(class_name)\n",
    "    print(list(zip(sorted_concepts, sorted_weights)))"
   ]
  },
  {
   "cell_type": "code",
   "execution_count": null,
   "metadata": {},
   "outputs": [],
   "source": []
  }
 ],
 "metadata": {
  "kernelspec": {
   "display_name": "cuda118",
   "language": "python",
   "name": "python3"
  },
  "language_info": {
   "codemirror_mode": {
    "name": "ipython",
    "version": 3
   },
   "file_extension": ".py",
   "mimetype": "text/x-python",
   "name": "python",
   "nbconvert_exporter": "python",
   "pygments_lexer": "ipython3",
   "version": "3.10.14"
  }
 },
 "nbformat": 4,
 "nbformat_minor": 2
}

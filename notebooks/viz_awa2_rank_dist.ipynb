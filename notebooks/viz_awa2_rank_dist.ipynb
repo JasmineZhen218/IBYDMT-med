{
 "cells": [
  {
   "cell_type": "code",
   "execution_count": null,
   "metadata": {},
   "outputs": [],
   "source": [
    "import os\n",
    "import sys\n",
    "import seaborn as sns\n",
    "import matplotlib.pyplot as plt\n",
    "import pandas as pd\n",
    "\n",
    "root_dir = \"../\"\n",
    "sys.path.append(root_dir)\n",
    "import configs\n",
    "import datasets\n",
    "from ibydmt.utils.config import get_config\n",
    "from ibydmt.utils.compare import rank_agreement\n",
    "\n",
    "config_name, concept_type = \"awa2\", \"class\"\n",
    "global_kw = {\"testing.kernel_scale\": 0.9, \"testing.tau_max\": 400}\n",
    "global_cond_kw = {\n",
    "    \"ckde.scale\": 2000,\n",
    "    \"testing.kernel_scale\": 0.9,\n",
    "    \"testing.tau_max\": 800,\n",
    "}\n",
    "\n",
    "config = get_config(config_name)\n",
    "_, global_rank_agreement = rank_agreement(\n",
    "    config, \"global\", concept_type, results_kw=global_kw\n",
    ")\n",
    "_, global_cond_rank_agreement = rank_agreement(\n",
    "    config, \"global_cond\", concept_type, results_kw=global_cond_kw\n",
    ")\n",
    "_, pcbm_rank_agreement = rank_agreement(config, \"global_cond\", concept_type, pcbm=True)\n",
    "\n",
    "sns.set_theme()\n",
    "sns.set_context(\"paper\")"
   ]
  },
  {
   "cell_type": "code",
   "execution_count": null,
   "metadata": {},
   "outputs": [],
   "source": [
    "figure_dir = os.path.join(root_dir, \"figures\", \"awa2\")\n",
    "os.makedirs(figure_dir, exist_ok=True)\n",
    "\n",
    "compare_dict = {\n",
    "    \"SKIT\": global_rank_agreement,\n",
    "    \"c-SKIT\": global_cond_rank_agreement,\n",
    "    \"PCBM\": pcbm_rank_agreement,\n",
    "}\n",
    "\n",
    "df_method = []\n",
    "df_agreement = []\n",
    "for method_name, agreement in compare_dict.items():\n",
    "    n_backbone = agreement.shape[1]\n",
    "    for i in range(n_backbone):\n",
    "        for j in range(n_backbone):\n",
    "            if i == j:\n",
    "                continue\n",
    "            class_agreement = agreement[:, i, j].flatten()\n",
    "            df_method.extend([method_name] * len(class_agreement))\n",
    "            df_agreement.extend(class_agreement)\n",
    "\n",
    "df = pd.DataFrame({\"method\": df_method, \"agreement\": df_agreement})\n",
    "\n",
    "_, ax = plt.subplots(figsize=(16 / 4, 9 / 4))\n",
    "sns.boxplot(data=df, x=\"method\", y=\"agreement\", hue=\"method\", ax=ax)\n",
    "ax.set_xlabel(\"\")\n",
    "ax.set_ylabel(\"Rank agreement\")\n",
    "ax.set_xticks(ax.get_xticks())\n",
    "ax.set_xticklabels(\n",
    "    [\n",
    "        f\"{method_name}\\n({agreement.mean():.2f})\"\n",
    "        for method_name, agreement in compare_dict.items()\n",
    "    ]\n",
    ")\n",
    "plt.savefig(os.path.join(figure_dir, \"rank_agreement_dist.pdf\"), bbox_inches=\"tight\")\n",
    "plt.savefig(os.path.join(figure_dir, \"rank_agreement_dist.png\"), bbox_inches=\"tight\")\n",
    "plt.show()"
   ]
  },
  {
   "cell_type": "code",
   "execution_count": null,
   "metadata": {},
   "outputs": [],
   "source": []
  }
 ],
 "metadata": {
  "kernelspec": {
   "display_name": "cuda118",
   "language": "python",
   "name": "python3"
  },
  "language_info": {
   "codemirror_mode": {
    "name": "ipython",
    "version": 3
   },
   "file_extension": ".py",
   "mimetype": "text/x-python",
   "name": "python",
   "nbconvert_exporter": "python",
   "pygments_lexer": "ipython3",
   "version": "3.10.14"
  }
 },
 "nbformat": 4,
 "nbformat_minor": 2
}

{
 "cells": [
  {
   "cell_type": "code",
   "execution_count": null,
   "metadata": {},
   "outputs": [],
   "source": [
    "import sys\n",
    "import os\n",
    "import torch\n",
    "import numpy as np\n",
    "import matplotlib.pyplot as plt\n",
    "from torchvision.utils import make_grid\n",
    "from torchvision import transforms as t\n",
    "\n",
    "root_dir = \"../\"\n",
    "sys.path.append(root_dir)\n",
    "import configs\n",
    "import datasets\n",
    "from ibydmt.utils.config import get_config\n",
    "from ibydmt.utils.data import get_dataset\n",
    "from ibydmt.tester import get_test_classes, get_local_test_idx\n",
    "\n",
    "rng = np.random.default_rng()\n",
    "\n",
    "config_name, use_local_test_images = \"cub\", True\n",
    "config = get_config(config_name)\n",
    "test_classes = get_test_classes(config)\n",
    "\n",
    "transform = t.Compose([t.Resize((224, 224)), t.ToTensor()])\n",
    "train_dataset = get_dataset(config, train=True, transform=transform)\n",
    "dataset = val_dataset = get_dataset(config, train=False, transform=transform)\n",
    "print(len(train_dataset), len(val_dataset), len(train_dataset) + len(val_dataset))\n",
    "\n",
    "m = 4\n",
    "if use_local_test_images:\n",
    "    class_idx = get_local_test_idx(config)\n",
    "    if max([len(_class_idx) for _class_idx in class_idx.values()]) >= m:\n",
    "        class_idx = {k: rng.choice(v, m, replace=False) for k, v in class_idx.items()}\n",
    "else:\n",
    "    class_idx = {class_name: [] for class_name in test_classes}\n",
    "    for idx, (_, label) in enumerate(dataset.samples):\n",
    "        class_name = dataset.classes[label]\n",
    "        if class_name in test_classes:\n",
    "            class_idx[class_name].append(idx)\n",
    "    class_idx = {k: rng.choice(v, m, replace=False) for k, v in class_idx.items()}\n",
    "print(class_idx)"
   ]
  },
  {
   "cell_type": "code",
   "execution_count": null,
   "metadata": {},
   "outputs": [],
   "source": [
    "figure_dir = os.path.join(root_dir, \"figures\", config.name.lower())\n",
    "os.makedirs(figure_dir, exist_ok=True)\n",
    "\n",
    "class_images = {\n",
    "    k: torch.stack([dataset[idx][0] for idx in v]) for k, v in class_idx.items()\n",
    "}\n",
    "images = torch.stack([images for images in class_images.values()], dim=1)\n",
    "images = images.flatten(0, 1)\n",
    "\n",
    "_, ax = plt.subplots(figsize=(16, 9))\n",
    "im = make_grid(images, nrow=len(test_classes))\n",
    "ax.imshow(im.permute(1, 2, 0))\n",
    "ax.axis(\"off\")\n",
    "ax.set_title(\" \".join(test_classes))\n",
    "plt.savefig(os.path.join(figure_dir, \"images.pdf\"), bbox_inches=\"tight\")\n",
    "plt.savefig(os.path.join(figure_dir, \"images.png\"), bbox_inches=\"tight\")\n",
    "plt.show()"
   ]
  },
  {
   "cell_type": "code",
   "execution_count": null,
   "metadata": {},
   "outputs": [],
   "source": []
  }
 ],
 "metadata": {
  "kernelspec": {
   "display_name": "cuda118",
   "language": "python",
   "name": "python3"
  },
  "language_info": {
   "codemirror_mode": {
    "name": "ipython",
    "version": 3
   },
   "file_extension": ".py",
   "mimetype": "text/x-python",
   "name": "python",
   "nbconvert_exporter": "python",
   "pygments_lexer": "ipython3",
   "version": "3.10.14"
  }
 },
 "nbformat": 4,
 "nbformat_minor": 2
}

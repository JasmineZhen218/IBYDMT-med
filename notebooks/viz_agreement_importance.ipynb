{
 "cells": [
  {
   "cell_type": "code",
   "execution_count": null,
   "metadata": {},
   "outputs": [],
   "source": [
    "import os\n",
    "import sys\n",
    "import numpy as np\n",
    "import matplotlib.pyplot as plt\n",
    "import seaborn as sns\n",
    "\n",
    "root_dir = \"../\"\n",
    "sys.path.append(root_dir)\n",
    "import configs\n",
    "import datasets\n",
    "from ibydmt.utils.config import get_config\n",
    "from ibydmt.utils.viz import viz_importance_agreement\n",
    "\n",
    "config_name, test_type, concept_type = \"imagenette\", \"local_cond\", \"image\"\n",
    "cardinality = 4\n",
    "results_kw = {\"testing.kernel_scale\": 0.5, \"testing.tau_max\": 200}\n",
    "\n",
    "config = get_config(config_name)\n",
    "\n",
    "sns.set_style()\n",
    "sns.set_context(\"paper\")"
   ]
  },
  {
   "cell_type": "code",
   "execution_count": null,
   "metadata": {},
   "outputs": [],
   "source": [
    "figure_dir = os.path.join(\n",
    "    root_dir, \"figures\", config.name.lower(), test_type, \"importance_agreement\"\n",
    ")\n",
    "os.makedirs(figure_dir, exist_ok=True)\n",
    "\n",
    "\n",
    "def viz_mean_agreement(importance_agreement_results):\n",
    "    off_diagonal = ~np.eye(importance_agreement_results.shape[1], dtype=bool)\n",
    "    rank_mu = importance_agreement_results[:, off_diagonal].mean()\n",
    "    rank_std = importance_agreement_results[:, off_diagonal].std()\n",
    "    print(f\"Average: {rank_mu:.2f} pm {rank_std:.2f}\")\n",
    "\n",
    "\n",
    "_, ax = plt.subplots(figsize=(5, 5))\n",
    "_, importance_agreement_results = viz_importance_agreement(\n",
    "    config,\n",
    "    test_type,\n",
    "    concept_type,\n",
    "    cardinality=cardinality,\n",
    "    results_kw=results_kw,\n",
    "    ax=ax,\n",
    ")\n",
    "viz_mean_agreement(importance_agreement_results)\n",
    "\n",
    "figure_name = f\"{results_kw['testing.tau_max']}_{concept_type}\"\n",
    "if cardinality is not None:\n",
    "    figure_name += f\"_{cardinality}\"\n",
    "plt.savefig(os.path.join(figure_dir, f\"{figure_name}.pdf\"), bbox_inches=\"tight\")\n",
    "plt.savefig(os.path.join(figure_dir, f\"{figure_name}.jpg\"), bbox_inches=\"tight\")\n",
    "plt.show()\n",
    "plt.close()"
   ]
  },
  {
   "cell_type": "code",
   "execution_count": null,
   "metadata": {},
   "outputs": [],
   "source": []
  }
 ],
 "metadata": {
  "kernelspec": {
   "display_name": "cuda118",
   "language": "python",
   "name": "python3"
  },
  "language_info": {
   "codemirror_mode": {
    "name": "ipython",
    "version": 3
   },
   "file_extension": ".py",
   "mimetype": "text/x-python",
   "name": "python",
   "nbconvert_exporter": "python",
   "pygments_lexer": "ipython3",
   "version": "3.10.14"
  }
 },
 "nbformat": 4,
 "nbformat_minor": 2
}

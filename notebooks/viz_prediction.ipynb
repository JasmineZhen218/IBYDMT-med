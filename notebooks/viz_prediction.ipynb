{
 "cells": [
  {
   "cell_type": "code",
   "execution_count": null,
   "metadata": {},
   "outputs": [],
   "source": [
    "import os\n",
    "import sys\n",
    "\n",
    "root_dir = \"../\"\n",
    "sys.path.append(root_dir)\n",
    "import configs\n",
    "import datasets\n",
    "from ibydmt.utils.config import get_config\n",
    "from ibydmt.classifiers import ZeroShotClassifier\n",
    "from ibydmt.tester import sweep\n",
    "\n",
    "config_name = \"awa2\"\n",
    "config = get_config(config_name)\n",
    "\n",
    "backbone_configs = sweep(config, sweep_keys=[\"data.backbone\"])"
   ]
  },
  {
   "cell_type": "code",
   "execution_count": null,
   "metadata": {},
   "outputs": [],
   "source": [
    "for backbone_config in backbone_configs:\n",
    "    predictions = ZeroShotClassifier.get_predictions()"
   ]
  }
 ],
 "metadata": {
  "kernelspec": {
   "display_name": "cuda118",
   "language": "python",
   "name": "python3"
  },
  "language_info": {
   "name": "python",
   "version": "3.10.14"
  }
 },
 "nbformat": 4,
 "nbformat_minor": 2
}

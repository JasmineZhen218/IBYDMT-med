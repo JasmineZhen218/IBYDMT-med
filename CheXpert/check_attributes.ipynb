{
 "cells": [
  {
   "cell_type": "code",
   "execution_count": 1,
   "metadata": {},
   "outputs": [],
   "source": [
    "import os\n",
    "import pandas as pd\n",
    "\n",
    "root_dir = \"../\"\n",
    "data_dir = os.path.join(root_dir, \"data\")\n",
    "chexpert_dir = os.path.join(data_dir, \"CheXpert-v1.0-small\")"
   ]
  },
  {
   "cell_type": "code",
   "execution_count": 3,
   "metadata": {},
   "outputs": [
    {
     "name": "stdout",
     "output_type": "stream",
     "text": [
      "0         11\n",
      "1         12\n",
      "2         12\n",
      "3         13\n",
      "4         12\n",
      "          ..\n",
      "223409    12\n",
      "223410    13\n",
      "223411    14\n",
      "223412     9\n",
      "223413    12\n",
      "Length: 223414, dtype: int64\n"
     ]
    }
   ],
   "source": [
    "data = pd.read_csv(os.path.join(chexpert_dir, \"train.csv\"))\n",
    "data[data == -1] = pd.NA\n",
    "print(data.isnull().sum(axis=1))"
   ]
  },
  {
   "cell_type": "code",
   "execution_count": null,
   "metadata": {},
   "outputs": [],
   "source": []
  }
 ],
 "metadata": {
  "kernelspec": {
   "display_name": "cuda118",
   "language": "python",
   "name": "python3"
  },
  "language_info": {
   "codemirror_mode": {
    "name": "ipython",
    "version": 3
   },
   "file_extension": ".py",
   "mimetype": "text/x-python",
   "name": "python",
   "nbconvert_exporter": "python",
   "pygments_lexer": "ipython3",
   "version": "3.10.14"
  }
 },
 "nbformat": 4,
 "nbformat_minor": 2
}
